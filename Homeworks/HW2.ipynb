{
 "cells": [
  {
   "cell_type": "code",
   "execution_count": 1,
   "metadata": {},
   "outputs": [
    {
     "name": "stdout",
     "output_type": "stream",
     "text": [
      "mlflow, version 2.13.0\n"
     ]
    }
   ],
   "source": [
    "! mlflow --version"
   ]
  },
  {
   "cell_type": "code",
   "execution_count": 2,
   "metadata": {},
   "outputs": [],
   "source": [
    "# preprocess the data\n",
    "! python preprocess_data.py --raw_data_path data/green --dest_path ./output"
   ]
  },
  {
   "cell_type": "code",
   "execution_count": 3,
   "metadata": {},
   "outputs": [
    {
     "name": "stdout",
     "output_type": "stream",
     "text": [
      "2024/05/30 16:52:34 INFO mlflow.tracking.fluent: Experiment with name 'my-experiment-1' does not exist. Creating a new experiment.\n",
      "2024/05/30 16:52:34 WARNING mlflow.utils.autologging_utils: You are using an unsupported version of sklearn. If you encounter errors during autologging, try upgrading / downgrading sklearn to a supported version, or try upgrading MLflow.\n",
      "2024/05/30 16:52:34 INFO mlflow.tracking.fluent: Autologging successfully enabled for sklearn.\n",
      "2024/05/30 16:52:35 WARNING mlflow.sklearn: Failed to log training dataset information to MLflow Tracking. Reason: 'numpy.ndarray' object has no attribute 'toarray'\n",
      "2024/05/30 16:52:52 WARNING mlflow.utils.autologging_utils: MLflow autologging encountered a warning: \"/media/zbook/Yanal2/Zoomcamp/MLOPS/.conda/lib/python3.11/site-packages/_distutils_hack/__init__.py:26: UserWarning: Setuptools is replacing distutils.\"\n",
      "/media/zbook/Yanal2/Zoomcamp/MLOPS/.conda/lib/python3.11/site-packages/sklearn/metrics/_regression.py:492: FutureWarning: 'squared' is deprecated in version 1.4 and will be removed in 1.6. To calculate the root mean squared error, use the function'root_mean_squared_error'.\n",
      "  warnings.warn(\n"
     ]
    }
   ],
   "source": [
    "# train the model\n",
    "! python train.py "
   ]
  },
  {
   "cell_type": "code",
   "execution_count": 4,
   "metadata": {},
   "outputs": [],
   "source": [
    "# Launch the tracking server locally\n",
    "\n",
    "# mlflow server \\\n",
    "#     --backend-store-uri sqlite:///mlflow.db \\\n",
    "#     --default-artifact-root ./artifacts \\\n",
    "#     --host 0.0.0.0 \\\n",
    "#     --port 5000\n"
   ]
  },
  {
   "cell_type": "code",
   "execution_count": 5,
   "metadata": {},
   "outputs": [
    {
     "name": "stdout",
     "output_type": "stream",
     "text": [
      "  0%|                                    | 0/15 [00:00<?, ?trial/s, best loss=?]/media/zbook/Yanal2/Zoomcamp/MLOPS/.conda/lib/python3.11/site-packages/sklearn/metrics/_regression.py:492: FutureWarning: 'squared' is deprecated in version 1.4 and will be removed in 1.6. To calculate the root mean squared error, use the function'root_mean_squared_error'.\n",
      "  warnings.warn(\n",
      "\n",
      "  7%|▋          | 1/15 [00:10<02:22, 10.14s/trial, best loss: 5.370086069268862]/media/zbook/Yanal2/Zoomcamp/MLOPS/.conda/lib/python3.11/site-packages/sklearn/metrics/_regression.py:492: FutureWarning: 'squared' is deprecated in version 1.4 and will be removed in 1.6. To calculate the root mean squared error, use the function'root_mean_squared_error'.\n",
      "  warnings.warn(\n",
      "\n",
      " 13%|█▍         | 2/15 [00:10<00:58,  4.47s/trial, best loss: 5.370086069268862]/media/zbook/Yanal2/Zoomcamp/MLOPS/.conda/lib/python3.11/site-packages/sklearn/metrics/_regression.py:492: FutureWarning: 'squared' is deprecated in version 1.4 and will be removed in 1.6. To calculate the root mean squared error, use the function'root_mean_squared_error'.\n",
      "  warnings.warn(\n",
      "\n",
      " 20%|██▏        | 3/15 [00:11<00:33,  2.76s/trial, best loss: 5.370086069268862]/media/zbook/Yanal2/Zoomcamp/MLOPS/.conda/lib/python3.11/site-packages/sklearn/metrics/_regression.py:492: FutureWarning: 'squared' is deprecated in version 1.4 and will be removed in 1.6. To calculate the root mean squared error, use the function'root_mean_squared_error'.\n",
      "  warnings.warn(\n",
      "\n",
      " 27%|██▉        | 4/15 [00:18<00:47,  4.33s/trial, best loss: 5.357490752366866]/media/zbook/Yanal2/Zoomcamp/MLOPS/.conda/lib/python3.11/site-packages/sklearn/metrics/_regression.py:492: FutureWarning: 'squared' is deprecated in version 1.4 and will be removed in 1.6. To calculate the root mean squared error, use the function'root_mean_squared_error'.\n",
      "  warnings.warn(\n",
      "\n",
      " 33%|███▋       | 5/15 [00:21<00:39,  3.95s/trial, best loss: 5.357490752366866]/media/zbook/Yanal2/Zoomcamp/MLOPS/.conda/lib/python3.11/site-packages/sklearn/metrics/_regression.py:492: FutureWarning: 'squared' is deprecated in version 1.4 and will be removed in 1.6. To calculate the root mean squared error, use the function'root_mean_squared_error'.\n",
      "  warnings.warn(\n",
      "\n",
      " 40%|████▍      | 6/15 [00:33<00:59,  6.59s/trial, best loss: 5.354695072530291]/media/zbook/Yanal2/Zoomcamp/MLOPS/.conda/lib/python3.11/site-packages/sklearn/metrics/_regression.py:492: FutureWarning: 'squared' is deprecated in version 1.4 and will be removed in 1.6. To calculate the root mean squared error, use the function'root_mean_squared_error'.\n",
      "  warnings.warn(\n",
      "\n",
      " 47%|█████▏     | 7/15 [00:44<01:05,  8.14s/trial, best loss: 5.354695072530291]/media/zbook/Yanal2/Zoomcamp/MLOPS/.conda/lib/python3.11/site-packages/sklearn/metrics/_regression.py:492: FutureWarning: 'squared' is deprecated in version 1.4 and will be removed in 1.6. To calculate the root mean squared error, use the function'root_mean_squared_error'.\n",
      "  warnings.warn(\n",
      "\n",
      " 53%|█████▊     | 8/15 [00:45<00:41,  5.94s/trial, best loss: 5.354695072530291]/media/zbook/Yanal2/Zoomcamp/MLOPS/.conda/lib/python3.11/site-packages/sklearn/metrics/_regression.py:492: FutureWarning: 'squared' is deprecated in version 1.4 and will be removed in 1.6. To calculate the root mean squared error, use the function'root_mean_squared_error'.\n",
      "  warnings.warn(\n",
      "\n",
      " 60%|██████▌    | 9/15 [00:52<00:37,  6.30s/trial, best loss: 5.354695072530291]/media/zbook/Yanal2/Zoomcamp/MLOPS/.conda/lib/python3.11/site-packages/sklearn/metrics/_regression.py:492: FutureWarning: 'squared' is deprecated in version 1.4 and will be removed in 1.6. To calculate the root mean squared error, use the function'root_mean_squared_error'.\n",
      "  warnings.warn(\n",
      "\n",
      " 67%|██████▋   | 10/15 [00:58<00:30,  6.16s/trial, best loss: 5.354695072530291]/media/zbook/Yanal2/Zoomcamp/MLOPS/.conda/lib/python3.11/site-packages/sklearn/metrics/_regression.py:492: FutureWarning: 'squared' is deprecated in version 1.4 and will be removed in 1.6. To calculate the root mean squared error, use the function'root_mean_squared_error'.\n",
      "  warnings.warn(\n",
      "\n",
      " 73%|███████▎  | 11/15 [01:03<00:22,  5.65s/trial, best loss: 5.335419588556921]/media/zbook/Yanal2/Zoomcamp/MLOPS/.conda/lib/python3.11/site-packages/sklearn/metrics/_regression.py:492: FutureWarning: 'squared' is deprecated in version 1.4 and will be removed in 1.6. To calculate the root mean squared error, use the function'root_mean_squared_error'.\n",
      "  warnings.warn(\n",
      "\n",
      " 80%|████████  | 12/15 [01:06<00:15,  5.04s/trial, best loss: 5.335419588556921]/media/zbook/Yanal2/Zoomcamp/MLOPS/.conda/lib/python3.11/site-packages/sklearn/metrics/_regression.py:492: FutureWarning: 'squared' is deprecated in version 1.4 and will be removed in 1.6. To calculate the root mean squared error, use the function'root_mean_squared_error'.\n",
      "  warnings.warn(\n",
      "\n",
      " 87%|████████▋ | 13/15 [01:07<00:07,  3.88s/trial, best loss: 5.335419588556921]/media/zbook/Yanal2/Zoomcamp/MLOPS/.conda/lib/python3.11/site-packages/sklearn/metrics/_regression.py:492: FutureWarning: 'squared' is deprecated in version 1.4 and will be removed in 1.6. To calculate the root mean squared error, use the function'root_mean_squared_error'.\n",
      "  warnings.warn(\n",
      "\n",
      " 93%|█████████▎| 14/15 [01:12<00:03,  3.97s/trial, best loss: 5.335419588556921]/media/zbook/Yanal2/Zoomcamp/MLOPS/.conda/lib/python3.11/site-packages/sklearn/metrics/_regression.py:492: FutureWarning: 'squared' is deprecated in version 1.4 and will be removed in 1.6. To calculate the root mean squared error, use the function'root_mean_squared_error'.\n",
      "  warnings.warn(\n",
      "\n",
      "100%|██████████| 15/15 [01:18<00:00,  5.25s/trial, best loss: 5.335419588556921]\n"
     ]
    }
   ],
   "source": [
    "# Tune model hyperparameters\n",
    "! python hpo.py"
   ]
  },
  {
   "cell_type": "code",
   "execution_count": 6,
   "metadata": {},
   "outputs": [
    {
     "name": "stdout",
     "output_type": "stream",
     "text": [
      "2024/05/30 16:54:19 WARNING mlflow.utils.autologging_utils: You are using an unsupported version of sklearn. If you encounter errors during autologging, try upgrading / downgrading sklearn to a supported version, or try upgrading MLflow.\n",
      "2024/05/30 16:54:20 WARNING mlflow.sklearn: Failed to log training dataset information to MLflow Tracking. Reason: 'numpy.ndarray' object has no attribute 'toarray'\n",
      "2024/05/30 16:54:27 WARNING mlflow.utils.autologging_utils: MLflow autologging encountered a warning: \"/media/zbook/Yanal2/Zoomcamp/MLOPS/.conda/lib/python3.11/site-packages/_distutils_hack/__init__.py:26: UserWarning: Setuptools is replacing distutils.\"\n",
      "/media/zbook/Yanal2/Zoomcamp/MLOPS/.conda/lib/python3.11/site-packages/sklearn/metrics/_regression.py:492: FutureWarning: 'squared' is deprecated in version 1.4 and will be removed in 1.6. To calculate the root mean squared error, use the function'root_mean_squared_error'.\n",
      "  warnings.warn(\n",
      "/media/zbook/Yanal2/Zoomcamp/MLOPS/.conda/lib/python3.11/site-packages/sklearn/metrics/_regression.py:492: FutureWarning: 'squared' is deprecated in version 1.4 and will be removed in 1.6. To calculate the root mean squared error, use the function'root_mean_squared_error'.\n",
      "  warnings.warn(\n",
      "2024/05/30 16:54:36 WARNING mlflow.sklearn: Failed to log training dataset information to MLflow Tracking. Reason: 'numpy.ndarray' object has no attribute 'toarray'\n",
      "/media/zbook/Yanal2/Zoomcamp/MLOPS/.conda/lib/python3.11/site-packages/sklearn/metrics/_regression.py:492: FutureWarning: 'squared' is deprecated in version 1.4 and will be removed in 1.6. To calculate the root mean squared error, use the function'root_mean_squared_error'.\n",
      "  warnings.warn(\n",
      "/media/zbook/Yanal2/Zoomcamp/MLOPS/.conda/lib/python3.11/site-packages/sklearn/metrics/_regression.py:492: FutureWarning: 'squared' is deprecated in version 1.4 and will be removed in 1.6. To calculate the root mean squared error, use the function'root_mean_squared_error'.\n",
      "  warnings.warn(\n",
      "2024/05/30 16:54:51 WARNING mlflow.sklearn: Failed to log training dataset information to MLflow Tracking. Reason: 'numpy.ndarray' object has no attribute 'toarray'\n",
      "/media/zbook/Yanal2/Zoomcamp/MLOPS/.conda/lib/python3.11/site-packages/sklearn/metrics/_regression.py:492: FutureWarning: 'squared' is deprecated in version 1.4 and will be removed in 1.6. To calculate the root mean squared error, use the function'root_mean_squared_error'.\n",
      "  warnings.warn(\n",
      "/media/zbook/Yanal2/Zoomcamp/MLOPS/.conda/lib/python3.11/site-packages/sklearn/metrics/_regression.py:492: FutureWarning: 'squared' is deprecated in version 1.4 and will be removed in 1.6. To calculate the root mean squared error, use the function'root_mean_squared_error'.\n",
      "  warnings.warn(\n",
      "2024/05/30 16:55:15 WARNING mlflow.sklearn: Failed to log training dataset information to MLflow Tracking. Reason: 'numpy.ndarray' object has no attribute 'toarray'\n",
      "/media/zbook/Yanal2/Zoomcamp/MLOPS/.conda/lib/python3.11/site-packages/sklearn/metrics/_regression.py:492: FutureWarning: 'squared' is deprecated in version 1.4 and will be removed in 1.6. To calculate the root mean squared error, use the function'root_mean_squared_error'.\n",
      "  warnings.warn(\n",
      "/media/zbook/Yanal2/Zoomcamp/MLOPS/.conda/lib/python3.11/site-packages/sklearn/metrics/_regression.py:492: FutureWarning: 'squared' is deprecated in version 1.4 and will be removed in 1.6. To calculate the root mean squared error, use the function'root_mean_squared_error'.\n",
      "  warnings.warn(\n",
      "2024/05/30 16:55:39 WARNING mlflow.sklearn: Failed to log training dataset information to MLflow Tracking. Reason: 'numpy.ndarray' object has no attribute 'toarray'\n",
      "/media/zbook/Yanal2/Zoomcamp/MLOPS/.conda/lib/python3.11/site-packages/sklearn/metrics/_regression.py:492: FutureWarning: 'squared' is deprecated in version 1.4 and will be removed in 1.6. To calculate the root mean squared error, use the function'root_mean_squared_error'.\n",
      "  warnings.warn(\n",
      "/media/zbook/Yanal2/Zoomcamp/MLOPS/.conda/lib/python3.11/site-packages/sklearn/metrics/_regression.py:492: FutureWarning: 'squared' is deprecated in version 1.4 and will be removed in 1.6. To calculate the root mean squared error, use the function'root_mean_squared_error'.\n",
      "  warnings.warn(\n",
      "Registered model 'sklearn-randomforest-reg' already exists. Creating a new version of this model...\n",
      "2024/05/30 16:55:58 INFO mlflow.store.model_registry.abstract_store: Waiting up to 300 seconds for model version to finish creation. Model name: sklearn-randomforest-reg, version 3\n",
      "Created version '3' of model 'sklearn-randomforest-reg'.\n"
     ]
    }
   ],
   "source": [
    "#Promote the best model to the model registry\n",
    "! python register_model.py"
   ]
  },
  {
   "cell_type": "code",
   "execution_count": 7,
   "metadata": {},
   "outputs": [
    {
     "name": "stdout",
     "output_type": "stream",
     "text": [
      "import os\n",
      "import pickle\n",
      "import click\n",
      "import mlflow\n",
      "\n",
      "from sklearn.ensemble import RandomForestRegressor\n",
      "from sklearn.metrics import mean_squared_error\n",
      "\n",
      "\n",
      "\n",
      "def load_pickle(filename: str):\n",
      "    with open(filename, \"rb\") as f_in:\n",
      "        return pickle.load(f_in)\n",
      "\n",
      "\n",
      "@click.command()\n",
      "@click.option(\n",
      "    \"--data_path\",\n",
      "    default=\"./output\",\n",
      "    help=\"Location where the processed NYC taxi trip data was saved\"\n",
      ")\n",
      "def run_train(data_path: str):\n",
      "    mlflow.set_experiment(\"my-experiment-1\")\n",
      "    mlflow.autolog()\n",
      "    with mlflow.start_run():\n",
      "        X_train, y_train = load_pickle(os.path.join(data_path, \"train.pkl\"))\n",
      "        X_val, y_val = load_pickle(os.path.join(data_path, \"val.pkl\"))\n",
      "\n",
      "        rf = RandomForestRegressor(max_depth=10, random_state=0)\n",
      "        rf.fit(X_train, y_train)\n",
      "        y_pred = rf.predict(X_val)\n",
      "\n",
      "        rmse = mean_squared_error(y_val, y_pred, squared=False)\n",
      "\n",
      "\n",
      "\n",
      "if __name__ == '__main__':\n",
      "    run_train()\n"
     ]
    }
   ],
   "source": [
    "! cat train.py"
   ]
  },
  {
   "cell_type": "code",
   "execution_count": 9,
   "metadata": {},
   "outputs": [
    {
     "name": "stdout",
     "output_type": "stream",
     "text": [
      "import os\n",
      "import pickle\n",
      "import click\n",
      "import mlflow\n",
      "import numpy as np\n",
      "from hyperopt import STATUS_OK, Trials, fmin, hp, tpe\n",
      "from hyperopt.pyll import scope\n",
      "from sklearn.ensemble import RandomForestRegressor\n",
      "from sklearn.metrics import mean_squared_error\n",
      "\n",
      "mlflow.set_tracking_uri(\"http://0.0.0.0:5000\")\n",
      "mlflow.set_experiment(\"random-forest-hyperopt\")\n",
      "\n",
      "\n",
      "def load_pickle(filename: str):\n",
      "    with open(filename, \"rb\") as f_in:\n",
      "        return pickle.load(f_in)\n",
      "\n",
      "\n",
      "@click.command()\n",
      "@click.option(\n",
      "    \"--data_path\",\n",
      "    default=\"./output\",\n",
      "    help=\"Location where the processed NYC taxi trip data was saved\"\n",
      ")\n",
      "@click.option(\n",
      "    \"--num_trials\",\n",
      "    default=15,\n",
      "    help=\"The number of parameter evaluations for the optimizer to explore\"\n",
      ")\n",
      "def run_optimization(data_path: str, num_trials: int):\n",
      "\n",
      "    X_train, y_train = load_pickle(os.path.join(data_path, \"train.pkl\"))\n",
      "    X_val, y_val = load_pickle(os.path.join(data_path, \"val.pkl\"))\n",
      "\n",
      "    def objective(params):\n",
      "        with mlflow.start_run():\n",
      "            rf = RandomForestRegressor(**params)\n",
      "            rf.fit(X_train, y_train)\n",
      "            y_pred = rf.predict(X_val)\n",
      "            rmse = mean_squared_error(y_val, y_pred, squared=False)\n",
      "            mlflow.log_params(params)\n",
      "            mlflow.log_metric(\"rmse\", rmse)\n",
      "        return {'loss': rmse, 'status': STATUS_OK}\n",
      "\n",
      "    search_space = {\n",
      "        'max_depth': scope.int(hp.quniform('max_depth', 1, 20, 1)),\n",
      "        'n_estimators': scope.int(hp.quniform('n_estimators', 10, 50, 1)),\n",
      "        'min_samples_split': scope.int(hp.quniform('min_samples_split', 2, 10, 1)),\n",
      "        'min_samples_leaf': scope.int(hp.quniform('min_samples_leaf', 1, 4, 1)),\n",
      "        'random_state': 42\n",
      "    }\n",
      "\n",
      "    rstate = np.random.default_rng(42)  # for reproducible results\n",
      "    fmin(\n",
      "        fn=objective,\n",
      "        space=search_space,\n",
      "        algo=tpe.suggest,\n",
      "        max_evals=num_trials,\n",
      "        trials=Trials(),\n",
      "        rstate=rstate\n",
      "    )\n",
      "\n",
      "\n",
      "if __name__ == '__main__':\n",
      "    run_optimization()\n"
     ]
    }
   ],
   "source": [
    "! cat hpo.py"
   ]
  },
  {
   "cell_type": "code",
   "execution_count": 10,
   "metadata": {},
   "outputs": [
    {
     "name": "stdout",
     "output_type": "stream",
     "text": [
      "import os\n",
      "import pickle\n",
      "import click\n",
      "import mlflow\n",
      "\n",
      "from mlflow.entities import ViewType\n",
      "from mlflow.tracking import MlflowClient\n",
      "from sklearn.ensemble import RandomForestRegressor\n",
      "from sklearn.metrics import mean_squared_error\n",
      "\n",
      "HPO_EXPERIMENT_NAME = \"random-forest-hyperopt\"\n",
      "EXPERIMENT_NAME = \"random-forest-best-models\"\n",
      "RF_PARAMS = ['max_depth', 'n_estimators', 'min_samples_split', 'min_samples_leaf', 'random_state']\n",
      "\n",
      "mlflow.set_tracking_uri(\"http://0.0.0.0:5000\")\n",
      "mlflow.set_experiment(EXPERIMENT_NAME)\n",
      "mlflow.sklearn.autolog()\n",
      "\n",
      "\n",
      "def load_pickle(filename):\n",
      "    with open(filename, \"rb\") as f_in:\n",
      "        return pickle.load(f_in)\n",
      "\n",
      "\n",
      "def train_and_log_model(data_path, params):\n",
      "    X_train, y_train = load_pickle(os.path.join(data_path, \"train.pkl\"))\n",
      "    X_val, y_val = load_pickle(os.path.join(data_path, \"val.pkl\"))\n",
      "    X_test, y_test = load_pickle(os.path.join(data_path, \"test.pkl\"))\n",
      "\n",
      "    with mlflow.start_run():\n",
      "        new_params = {}\n",
      "        for param in RF_PARAMS:\n",
      "            new_params[param] = int(params[param])\n",
      "\n",
      "        rf = RandomForestRegressor(**new_params)\n",
      "        rf.fit(X_train, y_train)\n",
      "\n",
      "        # Evaluate model on the validation and test sets\n",
      "        val_rmse = mean_squared_error(y_val, rf.predict(X_val), squared=False)\n",
      "        mlflow.log_metric(\"val_rmse\", val_rmse)\n",
      "        test_rmse = mean_squared_error(y_test, rf.predict(X_test), squared=False)\n",
      "        mlflow.log_metric(\"test_rmse\", test_rmse)\n",
      "\n",
      "\n",
      "@click.command()\n",
      "@click.option(\n",
      "    \"--data_path\",\n",
      "    default=\"./output\",\n",
      "    help=\"Location where the processed NYC taxi trip data was saved\"\n",
      ")\n",
      "@click.option(\n",
      "    \"--top_n\",\n",
      "    default=5,\n",
      "    type=int,\n",
      "    help=\"Number of top models that need to be evaluated to decide which one to promote\"\n",
      ")\n",
      "def run_register_model(data_path: str, top_n: int):\n",
      "\n",
      "    client = MlflowClient()\n",
      "\n",
      "    # Retrieve the top_n model runs and log the models\n",
      "    experiment = client.get_experiment_by_name(HPO_EXPERIMENT_NAME)\n",
      "    runs = client.search_runs(\n",
      "        experiment_ids=experiment.experiment_id,\n",
      "        run_view_type=ViewType.ACTIVE_ONLY,\n",
      "        max_results=top_n,\n",
      "        order_by=[\"metrics.rmse ASC\"]\n",
      "    )\n",
      "    for run in runs:\n",
      "        train_and_log_model(data_path=data_path, params=run.data.params)\n",
      "\n",
      "    # Select the model with the lowest test RMSE\n",
      "    experiment = client.get_experiment_by_name(EXPERIMENT_NAME)\n",
      "\n",
      "    best_run = client.search_runs(experiment_ids=experiment.experiment_id, order_by=[\"metrics.test_rmse ASC\"])[0]\n",
      "    \n",
      "    # Register the best model\n",
      "    mlflow.register_model(\"runs:/\"+best_run.info.run_id+\"/model\", \"sklearn-randomforest-reg\" )\n",
      "\n",
      "\n",
      "if __name__ == '__main__':\n",
      "    run_register_model()\n"
     ]
    }
   ],
   "source": [
    "! cat register_model.py\n"
   ]
  },
  {
   "cell_type": "code",
   "execution_count": null,
   "metadata": {},
   "outputs": [],
   "source": []
  }
 ],
 "metadata": {
  "kernelspec": {
   "display_name": "myenv",
   "language": "python",
   "name": "python3"
  },
  "language_info": {
   "codemirror_mode": {
    "name": "ipython",
    "version": 3
   },
   "file_extension": ".py",
   "mimetype": "text/x-python",
   "name": "python",
   "nbconvert_exporter": "python",
   "pygments_lexer": "ipython3",
   "version": "3.11.9"
  }
 },
 "nbformat": 4,
 "nbformat_minor": 2
}
